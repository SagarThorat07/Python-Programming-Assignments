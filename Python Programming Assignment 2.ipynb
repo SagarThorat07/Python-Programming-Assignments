{
 "cells": [
  {
   "cell_type": "markdown",
   "id": "c1c51ef1",
   "metadata": {},
   "source": [
    "1.\tWrite a Python program to convert kilometers to miles?"
   ]
  },
  {
   "cell_type": "code",
   "execution_count": 1,
   "id": "c618fa6b",
   "metadata": {},
   "outputs": [
    {
     "name": "stdout",
     "output_type": "stream",
     "text": [
      "Enter distance in km:20\n",
      "Distance in miles is: 12.427399999999999\n"
     ]
    }
   ],
   "source": [
    "dist_in_km = int(input(\"Enter distance in km:\"))\n",
    "dist_in_miles = (dist_in_km * 0.62137)\n",
    "print(\"Distance in miles is:\" , dist_in_miles)"
   ]
  },
  {
   "cell_type": "markdown",
   "id": "1b85bb4c",
   "metadata": {},
   "source": [
    "2.\tWrite a Python program to convert Celsius to Fahrenheit?"
   ]
  },
  {
   "cell_type": "code",
   "execution_count": 2,
   "id": "c94cfd76",
   "metadata": {},
   "outputs": [
    {
     "name": "stdout",
     "output_type": "stream",
     "text": [
      "Enter temprature in celcius:45\n",
      "Temprature in Farenheit is: 113.0\n"
     ]
    }
   ],
   "source": [
    "temp_in_celcius = int(input(\"Enter temprature in celcius:\"))\n",
    "temp_in_farenheit = (temp_in_celcius * 1.8 + 32)\n",
    "print(\"Temprature in Farenheit is:\", temp_in_farenheit)"
   ]
  },
  {
   "cell_type": "markdown",
   "id": "f28c1cc9",
   "metadata": {},
   "source": [
    "3.\tWrite a Python program to display calendar?"
   ]
  },
  {
   "cell_type": "code",
   "execution_count": 5,
   "id": "ebe17e6f",
   "metadata": {},
   "outputs": [
    {
     "name": "stdout",
     "output_type": "stream",
     "text": [
      "Enter year:2022\n",
      "Enter month:10\n",
      "    October 2022\n",
      "Mo Tu We Th Fr Sa Su\n",
      "                1  2\n",
      " 3  4  5  6  7  8  9\n",
      "10 11 12 13 14 15 16\n",
      "17 18 19 20 21 22 23\n",
      "24 25 26 27 28 29 30\n",
      "31\n",
      "\n"
     ]
    }
   ],
   "source": [
    "import calendar\n",
    "yy = int(input(\"Enter year:\"))\n",
    "mm = int(input(\"Enter month:\"))\n",
    "print(calendar.month(yy,mm))"
   ]
  },
  {
   "cell_type": "markdown",
   "id": "c0498fd7",
   "metadata": {},
   "source": [
    "4.\tWrite a Python program to solve quadratic equation?"
   ]
  },
  {
   "cell_type": "code",
   "execution_count": 6,
   "id": "07065cbc",
   "metadata": {},
   "outputs": [
    {
     "name": "stdout",
     "output_type": "stream",
     "text": [
      "Enter value of a :5\n",
      "Enter value of b :6\n",
      "Enter value of c :1\n",
      "(-0.2+0j) , (-1+0j)\n"
     ]
    }
   ],
   "source": [
    "# Formula :\n",
    "# x = - b +- sqrt(b**2 - 4*a*c)/2*a\n",
    "import cmath\n",
    "a = int(input(\"Enter value of a :\"))\n",
    "b = int(input(\"Enter value of b :\"))\n",
    "c = int(input(\"Enter value of c :\"))\n",
    "d = (b**2) - (4 * a * c)\n",
    "solution_one = (- b + cmath.sqrt(d))/(2*a)\n",
    "solution_two = (- b - cmath.sqrt(d))/(2*a)\n",
    "print(solution_one, \",\" , solution_two)"
   ]
  },
  {
   "cell_type": "markdown",
   "id": "7c8f49b8",
   "metadata": {},
   "source": [
    "5.\tWrite a Python program to swap two variables without temp variable?"
   ]
  },
  {
   "cell_type": "code",
   "execution_count": 8,
   "id": "e06b5728",
   "metadata": {},
   "outputs": [
    {
     "name": "stdout",
     "output_type": "stream",
     "text": [
      "First Variable =8\n",
      "Second Variable =2\n",
      "First Variable Before swap  : 8 \n",
      " Second variable Before Swap  : 2\n",
      "After Swap : \n",
      " First Variabe : 2 \n",
      "  Second Variable : 8\n"
     ]
    }
   ],
   "source": [
    "x = int(input(\"First Variable =\"))\n",
    "y = int(input(\"Second Variable =\"))\n",
    "print(\"First Variable Before swap  : {} \\n Second variable Before Swap  : {}\".format(x,y))\n",
    "x,y = y,x\n",
    "\n",
    "print(\"After Swap : \\n First Variabe : {} \\n  Second Variable : {}\".format(x,y))"
   ]
  },
  {
   "cell_type": "code",
   "execution_count": null,
   "id": "c5b4c459",
   "metadata": {},
   "outputs": [],
   "source": []
  }
 ],
 "metadata": {
  "kernelspec": {
   "display_name": "Python 3 (ipykernel)",
   "language": "python",
   "name": "python3"
  },
  "language_info": {
   "codemirror_mode": {
    "name": "ipython",
    "version": 3
   },
   "file_extension": ".py",
   "mimetype": "text/x-python",
   "name": "python",
   "nbconvert_exporter": "python",
   "pygments_lexer": "ipython3",
   "version": "3.9.7"
  }
 },
 "nbformat": 4,
 "nbformat_minor": 5
}
