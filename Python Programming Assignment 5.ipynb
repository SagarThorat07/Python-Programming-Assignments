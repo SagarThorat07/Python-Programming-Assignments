{
 "cells": [
  {
   "cell_type": "markdown",
   "id": "eb988da2",
   "metadata": {},
   "source": [
    "1.\tWrite a Python Program to Find LCM?"
   ]
  },
  {
   "cell_type": "code",
   "execution_count": 4,
   "id": "ccb0bc5e",
   "metadata": {},
   "outputs": [
    {
     "name": "stdout",
     "output_type": "stream",
     "text": [
      "Enter a number 1 : 3\n",
      "Enter a number 2 : 4\n",
      " The LCM of 3 and 4 is 12\n"
     ]
    }
   ],
   "source": [
    "x = int(input(\"Enter a number 1 : \"))\n",
    "y = int(input(\"Enter a number 2 : \"))\n",
    "\n",
    "# Large no\n",
    "\n",
    "if x > y:\n",
    "    big = x\n",
    "else:\n",
    "    big = y\n",
    "    \n",
    "while(True):\n",
    "    if big % x == 0 and big % y == 0:\n",
    "        lcm = big\n",
    "        break\n",
    "    big += 1\n",
    "print(\" The LCM of {} and {} is {}\".format(x,y,lcm))"
   ]
  },
  {
   "cell_type": "markdown",
   "id": "4e1ceede",
   "metadata": {},
   "source": [
    "2.\tWrite a Python Program to Find HCF?"
   ]
  },
  {
   "cell_type": "code",
   "execution_count": 5,
   "id": "c0965073",
   "metadata": {},
   "outputs": [
    {
     "name": "stdout",
     "output_type": "stream",
     "text": [
      "Enter num1 : 3\n",
      "Enter num2 : 4\n",
      "The hcf of 3 and 4 is 1\n"
     ]
    }
   ],
   "source": [
    "x = int(input(\"Enter num1 : \"))\n",
    "y = int(input(\"Enter num2 : \"))\n",
    "\n",
    "\n",
    "if x < y:\n",
    "    small = x\n",
    "else:\n",
    "    small = y\n",
    "hcf = 0   \n",
    "for i in range(1,small+1):\n",
    "    if x % i == 0 and y % i == 0 :\n",
    "        hcf = i\n",
    "    \n",
    "print(\"The hcf of {} and {} is {}\".format(x,y,hcf))"
   ]
  },
  {
   "cell_type": "markdown",
   "id": "7cb799a1",
   "metadata": {},
   "source": [
    "3.\tWrite a Python Program to Convert Decimal to Binary, Octal and Hexadecimal?"
   ]
  },
  {
   "cell_type": "code",
   "execution_count": 6,
   "id": "58662cb4",
   "metadata": {},
   "outputs": [
    {
     "name": "stdout",
     "output_type": "stream",
     "text": [
      "Enter a number :5\n",
      "5 in Binary is : 0b101\n",
      "5 in Octal is : 0o5\n",
      "5 in Hexadecimal is : 0x5\n"
     ]
    }
   ],
   "source": [
    "x = int(input(\"Enter a number :\"))\n",
    "\n",
    "print(x , \"in Binary is :\", bin(x))\n",
    "print(x , \"in Octal is :\", oct(x))\n",
    "print(x , \"in Hexadecimal is :\", hex(x))"
   ]
  },
  {
   "cell_type": "markdown",
   "id": "53f3bb22",
   "metadata": {},
   "source": [
    "4.\tWrite a Python Program To Find ASCII value of a character?"
   ]
  },
  {
   "cell_type": "code",
   "execution_count": 7,
   "id": "18c419c3",
   "metadata": {},
   "outputs": [
    {
     "name": "stdout",
     "output_type": "stream",
     "text": [
      "Enter a character : s\n",
      "ASCII value of s is 115 \n"
     ]
    }
   ],
   "source": [
    "str = input(\"Enter a character : \")\n",
    "print(\"ASCII value of {} is {} \".format(str, ord(str)))"
   ]
  },
  {
   "cell_type": "markdown",
   "id": "d2bae1e9",
   "metadata": {},
   "source": [
    "5.\tWrite a Python Program to Make a Simple Calculator with 4 basic mathematical operations?"
   ]
  },
  {
   "cell_type": "code",
   "execution_count": 3,
   "id": "eb442897",
   "metadata": {},
   "outputs": [
    {
     "name": "stdout",
     "output_type": "stream",
     "text": [
      "Enter number 1 :5\n",
      "Enter number 2 :5\n",
      "Enter + to add : \n",
      "Enter - to subtract : \n",
      "Enter * to multiply : \n",
      "Enter / to divide : *\n",
      "5.0 + 5.0 = 25.0 \n"
     ]
    }
   ],
   "source": [
    "x = float(input(\"Enter number 1 :\"))\n",
    "y = float(input(\"Enter number 2 :\"))\n",
    "\n",
    "output = input(\"Enter + to add : \\nEnter - to subtract : \\nEnter * to multiply : \\nEnter / to divide : \")\n",
    "\n",
    "add = x + y\n",
    "sub = x - y\n",
    "mult = x * y\n",
    "div = x / y\n",
    "\n",
    "if output == \"+\":\n",
    "    print(\"{} + {} = {} \".format(x,y,add))\n",
    "elif output == \"-\":\n",
    "        print(\"{} + {} = {} \".format(x,y,sub))\n",
    "elif output == \"*\":\n",
    "        print(\"{} + {} = {} \".format(x,y,mult))\n",
    "elif output == \"/\":\n",
    "    if x == 0 or y == 0:\n",
    "        print(\"Divion with zero num is not possible\")\n",
    "    else:\n",
    "        div = x / y\n",
    "        print(\"{} + {} = {} \".format(x,y,div))\n",
    "else:\n",
    "    print(\"Invalid input\")\n",
    "\n"
   ]
  },
  {
   "cell_type": "code",
   "execution_count": null,
   "id": "04a4058f",
   "metadata": {},
   "outputs": [],
   "source": []
  }
 ],
 "metadata": {
  "kernelspec": {
   "display_name": "Python 3 (ipykernel)",
   "language": "python",
   "name": "python3"
  },
  "language_info": {
   "codemirror_mode": {
    "name": "ipython",
    "version": 3
   },
   "file_extension": ".py",
   "mimetype": "text/x-python",
   "name": "python",
   "nbconvert_exporter": "python",
   "pygments_lexer": "ipython3",
   "version": "3.9.7"
  }
 },
 "nbformat": 4,
 "nbformat_minor": 5
}
