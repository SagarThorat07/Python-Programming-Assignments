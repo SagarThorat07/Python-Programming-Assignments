{
 "cells": [
  {
   "cell_type": "markdown",
   "id": "75c32020",
   "metadata": {},
   "source": [
    "1.\tWrite a Python program to print \"Hello Python\"?"
   ]
  },
  {
   "cell_type": "code",
   "execution_count": 15,
   "id": "d65c1e75",
   "metadata": {},
   "outputs": [
    {
     "name": "stdout",
     "output_type": "stream",
     "text": [
      "Hello Python\n"
     ]
    }
   ],
   "source": [
    "print(\"Hello Python\")"
   ]
  },
  {
   "cell_type": "markdown",
   "id": "27fa1462",
   "metadata": {},
   "source": [
    "2.\tWrite a Python program to do arithmetical operations addition and division.?"
   ]
  },
  {
   "cell_type": "code",
   "execution_count": 16,
   "id": "6d9170dd",
   "metadata": {},
   "outputs": [],
   "source": [
    "def addition(x,y):\n",
    "    return x+y"
   ]
  },
  {
   "cell_type": "code",
   "execution_count": 17,
   "id": "4d63c15e",
   "metadata": {},
   "outputs": [
    {
     "data": {
      "text/plain": [
       "30"
      ]
     },
     "execution_count": 17,
     "metadata": {},
     "output_type": "execute_result"
    }
   ],
   "source": [
    "addition(10,20)"
   ]
  },
  {
   "cell_type": "code",
   "execution_count": 18,
   "id": "8a86f690",
   "metadata": {},
   "outputs": [],
   "source": [
    "def division(a,b):\n",
    "    return a/b"
   ]
  },
  {
   "cell_type": "code",
   "execution_count": 19,
   "id": "109714df",
   "metadata": {},
   "outputs": [
    {
     "data": {
      "text/plain": [
       "2.0"
      ]
     },
     "execution_count": 19,
     "metadata": {},
     "output_type": "execute_result"
    }
   ],
   "source": [
    "division(4,2)"
   ]
  },
  {
   "cell_type": "markdown",
   "id": "7af4bfcb",
   "metadata": {},
   "source": [
    "3.\tWrite a Python program to find the area of a triangle?"
   ]
  },
  {
   "cell_type": "code",
   "execution_count": 20,
   "id": "2f7838b7",
   "metadata": {},
   "outputs": [
    {
     "name": "stdout",
     "output_type": "stream",
     "text": [
      "Enter height of the briangle:12\n",
      "Enter base of the triangle:6\n",
      "Area of triangle is: 36.0\n"
     ]
    }
   ],
   "source": [
    "height = int(input(\"Enter height of the briangle:\"))\n",
    "base = int(input(\"Enter base of the triangle:\"))\n",
    "\n",
    "area = (height * base)/2\n",
    "\n",
    "print(\"Area of triangle is:\", area)"
   ]
  },
  {
   "cell_type": "markdown",
   "id": "906a8e59",
   "metadata": {},
   "source": [
    "4.\tWrite a Python program to swap two variables?"
   ]
  },
  {
   "cell_type": "code",
   "execution_count": 21,
   "id": "f19cda54",
   "metadata": {},
   "outputs": [
    {
     "name": "stdout",
     "output_type": "stream",
     "text": [
      "Enter first variable:6\n",
      "Enter second variable:8\n",
      "First variable before swap: 6 \n",
      " Second variable before swap: 8\n",
      "After swap: \n",
      " First variable: 8 \n",
      " Second variable: 6\n"
     ]
    }
   ],
   "source": [
    "x = int(input(\"Enter first variable:\"))\n",
    "y = int(input(\"Enter second variable:\"))\n",
    "print(\"First variable before swap: {} \\n Second variable before swap: {}\".format(x,y))\n",
    "x,y = y,x\n",
    "print(\"After swap: \\n First variable: {} \\n Second variable: {}\".format(x,y))"
   ]
  },
  {
   "cell_type": "markdown",
   "id": "9704897e",
   "metadata": {},
   "source": [
    "5.\tWrite a Python program to generate a random number?"
   ]
  },
  {
   "cell_type": "code",
   "execution_count": 25,
   "id": "8449c18a",
   "metadata": {},
   "outputs": [
    {
     "name": "stdout",
     "output_type": "stream",
     "text": [
      "2\n"
     ]
    }
   ],
   "source": [
    "import random\n",
    "print(random.randint(0,6))"
   ]
  },
  {
   "cell_type": "code",
   "execution_count": null,
   "id": "b4a21d4a",
   "metadata": {},
   "outputs": [],
   "source": []
  }
 ],
 "metadata": {
  "kernelspec": {
   "display_name": "Python 3 (ipykernel)",
   "language": "python",
   "name": "python3"
  },
  "language_info": {
   "codemirror_mode": {
    "name": "ipython",
    "version": 3
   },
   "file_extension": ".py",
   "mimetype": "text/x-python",
   "name": "python",
   "nbconvert_exporter": "python",
   "pygments_lexer": "ipython3",
   "version": "3.9.7"
  }
 },
 "nbformat": 4,
 "nbformat_minor": 5
}
