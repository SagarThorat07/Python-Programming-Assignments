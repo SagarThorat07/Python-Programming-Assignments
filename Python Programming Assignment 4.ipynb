{
 "cells": [
  {
   "cell_type": "markdown",
   "id": "bfe4264b",
   "metadata": {},
   "source": [
    "1.\tWrite a Python Program to Find the Factorial of a Number?"
   ]
  },
  {
   "cell_type": "code",
   "execution_count": 5,
   "id": "6e1f977f",
   "metadata": {},
   "outputs": [
    {
     "name": "stdout",
     "output_type": "stream",
     "text": [
      "Enter a number :7\n",
      "5040\n"
     ]
    }
   ],
   "source": [
    "x = int(input(\"Enter a number :\"))\n",
    "factorial = 1\n",
    "for i in range (1,x+1):\n",
    "    factorial = factorial * i\n",
    "print(factorial)"
   ]
  },
  {
   "cell_type": "markdown",
   "id": "fcba9830",
   "metadata": {},
   "source": [
    "2.\tWrite a Python Program to Display the multiplication Table?"
   ]
  },
  {
   "cell_type": "code",
   "execution_count": 9,
   "id": "df12d481",
   "metadata": {},
   "outputs": [
    {
     "name": "stdout",
     "output_type": "stream",
     "text": [
      "Enter a number :6\n",
      "6 x 1 = 6\n",
      "6 x 2 = 12\n",
      "6 x 3 = 18\n",
      "6 x 4 = 24\n",
      "6 x 5 = 30\n",
      "6 x 6 = 36\n",
      "6 x 7 = 42\n",
      "6 x 8 = 48\n",
      "6 x 9 = 54\n",
      "6 x 10 = 60\n"
     ]
    }
   ],
   "source": [
    "x = int(input(\"Enter a number :\"))\n",
    "for i in range(1,11):\n",
    "    print(\"{} x {} = {}\".format(x, i, x*i))"
   ]
  },
  {
   "cell_type": "markdown",
   "id": "ca12a29e",
   "metadata": {},
   "source": [
    "3.\tWrite a Python Program to Print the Fibonacci sequence?"
   ]
  },
  {
   "cell_type": "code",
   "execution_count": 10,
   "id": "fddcb193",
   "metadata": {},
   "outputs": [],
   "source": [
    "def genfib(n):\n",
    "    a = 1\n",
    "    b = 1\n",
    "    l = []\n",
    "    for i in range(n):\n",
    "        l.append(a)\n",
    "        a, b = b, a+b\n",
    "    return l"
   ]
  },
  {
   "cell_type": "code",
   "execution_count": 11,
   "id": "d60a90c6",
   "metadata": {},
   "outputs": [
    {
     "data": {
      "text/plain": [
       "[1, 1, 2, 3, 5, 8, 13, 21]"
      ]
     },
     "execution_count": 11,
     "metadata": {},
     "output_type": "execute_result"
    }
   ],
   "source": [
    "genfib(8)"
   ]
  },
  {
   "cell_type": "markdown",
   "id": "dca485e1",
   "metadata": {},
   "source": [
    "4.\tWrite a Python Program to Check Armstrong Number?"
   ]
  },
  {
   "cell_type": "code",
   "execution_count": 12,
   "id": "4ed85ba9",
   "metadata": {},
   "outputs": [
    {
     "name": "stdout",
     "output_type": "stream",
     "text": [
      "Enter the number : 371\n",
      "Number is armstrong number\n"
     ]
    }
   ],
   "source": [
    "x = int(input(\"Enter the number : \"))\n",
    "\n",
    "power = len(str(x))\n",
    "\n",
    "y = x\n",
    "sum = 0\n",
    "while y > 0:\n",
    "    digit = y % 10\n",
    "    sum = sum + digit ** power\n",
    "    y = y//10\n",
    "if x == sum :\n",
    "    print(\"Number is armstrong number\")\n",
    "else:\n",
    "    print(\"Not an armstrong number\")"
   ]
  },
  {
   "cell_type": "markdown",
   "id": "9dd723eb",
   "metadata": {},
   "source": [
    "5.\tWrite a Python Program to Find Armstrong Number in an Interval?"
   ]
  },
  {
   "cell_type": "code",
   "execution_count": 13,
   "id": "b27bcf18",
   "metadata": {},
   "outputs": [
    {
     "name": "stdout",
     "output_type": "stream",
     "text": [
      "Low no : 100\n",
      "Up no : 1000\n",
      "153\n",
      "370\n",
      "371\n",
      "407\n"
     ]
    }
   ],
   "source": [
    "x = int(input(\"Low no : \"))\n",
    "y = int(input(\"Up no : \"))\n",
    "\n",
    "\n",
    "for i in range(x,y+1):\n",
    "    power = len(str(i))\n",
    "    temp = i\n",
    "    sum = 0\n",
    "    while temp > 0:\n",
    "        digit = temp % 10\n",
    "        sum = sum + digit ** power\n",
    "        temp = temp//10\n",
    "    if i == sum :\n",
    "        print(i)"
   ]
  },
  {
   "cell_type": "markdown",
   "id": "4a539529",
   "metadata": {},
   "source": [
    "6.\tWrite a Python Program to Find the Sum of Natural Numbers?"
   ]
  },
  {
   "cell_type": "code",
   "execution_count": 14,
   "id": "f632318d",
   "metadata": {},
   "outputs": [
    {
     "name": "stdout",
     "output_type": "stream",
     "text": [
      "enter the number : 4\n",
      "Sum of natural numbers upto 4 is 10\n"
     ]
    }
   ],
   "source": [
    "x = int(input(\"enter the number : \"))\n",
    "\n",
    "sum = 0\n",
    "for i in range(0,x+1):\n",
    "    sum+=i\n",
    "print(\"Sum of natural numbers upto {} is {}\".format(x,sum))"
   ]
  },
  {
   "cell_type": "code",
   "execution_count": null,
   "id": "87d174ad",
   "metadata": {},
   "outputs": [],
   "source": []
  }
 ],
 "metadata": {
  "kernelspec": {
   "display_name": "Python 3 (ipykernel)",
   "language": "python",
   "name": "python3"
  },
  "language_info": {
   "codemirror_mode": {
    "name": "ipython",
    "version": 3
   },
   "file_extension": ".py",
   "mimetype": "text/x-python",
   "name": "python",
   "nbconvert_exporter": "python",
   "pygments_lexer": "ipython3",
   "version": "3.9.7"
  }
 },
 "nbformat": 4,
 "nbformat_minor": 5
}
