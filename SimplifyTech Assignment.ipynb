{
 "cells": [
  {
   "cell_type": "code",
   "execution_count": 1,
   "id": "5e354e90",
   "metadata": {},
   "outputs": [],
   "source": [
    "def int_to_indian_currency(n):\n",
    "    # Splitting the number into integral and fractional parts\n",
    "    int_part, frac_part = str(n).split('.')\n",
    "\n",
    "    # Splitting the integral part into groups of 3 digits\n",
    "    int_groups = []\n",
    "    while len(int_part) > 3:\n",
    "        int_groups.append(int_part[-3:])\n",
    "        int_part = int_part[:-3]\n",
    "    int_groups.append(int_part)\n",
    "\n",
    "    # Forming the integral part of the final string\n",
    "    int_part_str = ''\n",
    "    for i, group in enumerate(reversed(int_groups)):\n",
    "        if i == 0:\n",
    "            int_part_str += group\n",
    "        else:\n",
    "            int_part_str += ',' + group\n",
    "\n",
    "    # Forming the fractional part of the final string\n",
    "    frac_part_str = ''\n",
    "    if frac_part:\n",
    "        frac_part_str = '.' + frac_part.ljust(2, '0')\n",
    "\n",
    "    # Return the final string\n",
    "    return '₹' + int_part_str + frac_part_str\n"
   ]
  },
  {
   "cell_type": "code",
   "execution_count": 2,
   "id": "393104ad",
   "metadata": {},
   "outputs": [
    {
     "name": "stdout",
     "output_type": "stream",
     "text": [
      "₹123,456.789\n"
     ]
    }
   ],
   "source": [
    "amount = 123456.789\n",
    "print(int_to_indian_currency(amount))\n"
   ]
  },
  {
   "cell_type": "code",
   "execution_count": 7,
   "id": "200d1e9f",
   "metadata": {},
   "outputs": [
    {
     "name": "stdout",
     "output_type": "stream",
     "text": [
      "2\n",
      "1\n",
      "0\n"
     ]
    }
   ],
   "source": [
    "from typing import List\n",
    "\n",
    "def min_players_to_shoot(n: int, k: int, heights: List[int]) -> int:\n",
    "    count = 0\n",
    "    for h in heights:\n",
    "        if h > k:\n",
    "            count += 1\n",
    "    return count\n",
    "\n",
    "# Read the number of test cases\n",
    "T = 3\n",
    "\n",
    "# Solve the problem for each test case\n",
    "for t in range(T):\n",
    "    # Read N, K, and the list of player heights\n",
    "    if t == 0:\n",
    "        N, K = 4, 10\n",
    "        heights = [2, 13, 4, 16]\n",
    "    elif t == 1:\n",
    "        N, K = 5, 8\n",
    "        heights = [9, 3, 8, 8, 4]\n",
    "    elif t == 2:\n",
    "        N, K = 4, 6\n",
    "        heights = [1, 2, 3, 4]\n",
    "\n",
    "    # Call the function and print the result\n",
    "    result = min_players_to_shoot(N, K, heights)\n",
    "    print(result)\n"
   ]
  },
  {
   "cell_type": "code",
   "execution_count": 8,
   "id": "33d2f1c8",
   "metadata": {},
   "outputs": [],
   "source": [
    "\n"
   ]
  },
  {
   "cell_type": "code",
   "execution_count": null,
   "id": "6bb64a13",
   "metadata": {},
   "outputs": [],
   "source": []
  }
 ],
 "metadata": {
  "kernelspec": {
   "display_name": "Python 3 (ipykernel)",
   "language": "python",
   "name": "python3"
  },
  "language_info": {
   "codemirror_mode": {
    "name": "ipython",
    "version": 3
   },
   "file_extension": ".py",
   "mimetype": "text/x-python",
   "name": "python",
   "nbconvert_exporter": "python",
   "pygments_lexer": "ipython3",
   "version": "3.9.12"
  }
 },
 "nbformat": 4,
 "nbformat_minor": 5
}
